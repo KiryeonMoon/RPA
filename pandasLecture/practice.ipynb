{
 "metadata": {
  "language_info": {
   "codemirror_mode": {
    "name": "ipython",
    "version": 3
   },
   "file_extension": ".py",
   "mimetype": "text/x-python",
   "name": "python",
   "nbconvert_exporter": "python",
   "pygments_lexer": "ipython3",
   "version": "3.8.5-final"
  },
  "orig_nbformat": 2,
  "kernelspec": {
   "name": "python3",
   "display_name": "Python 3.8.5 64-bit (conda)",
   "metadata": {
    "interpreter": {
     "hash": "b3ba2566441a7c06988d0923437866b63cedc61552a5af99d1f4fb67d367b25f"
    }
   }
  }
 },
 "nbformat": 4,
 "nbformat_minor": 2,
 "cells": [
  {
   "cell_type": "code",
   "execution_count": 1,
   "metadata": {},
   "outputs": [],
   "source": [
    "import pandas as pd"
   ]
  },
  {
   "cell_type": "code",
   "execution_count": 2,
   "metadata": {},
   "outputs": [],
   "source": [
    "data_frame = pd.read_csv(\"data/friend_list.csv\")"
   ]
  },
  {
   "cell_type": "code",
   "execution_count": 5,
   "metadata": {},
   "outputs": [
    {
     "output_type": "execute_result",
     "data": {
      "text/plain": [
       "    name  age        job\n",
       "0   John   20    student\n",
       "1  Jenny   30  developer\n",
       "2   Nate   30    teacher\n",
       "3  Julia   40    dentist\n",
       "4  Brian   45    manager"
      ],
      "text/html": "<div>\n<style scoped>\n    .dataframe tbody tr th:only-of-type {\n        vertical-align: middle;\n    }\n\n    .dataframe tbody tr th {\n        vertical-align: top;\n    }\n\n    .dataframe thead th {\n        text-align: right;\n    }\n</style>\n<table border=\"1\" class=\"dataframe\">\n  <thead>\n    <tr style=\"text-align: right;\">\n      <th></th>\n      <th>name</th>\n      <th>age</th>\n      <th>job</th>\n    </tr>\n  </thead>\n  <tbody>\n    <tr>\n      <th>0</th>\n      <td>John</td>\n      <td>20</td>\n      <td>student</td>\n    </tr>\n    <tr>\n      <th>1</th>\n      <td>Jenny</td>\n      <td>30</td>\n      <td>developer</td>\n    </tr>\n    <tr>\n      <th>2</th>\n      <td>Nate</td>\n      <td>30</td>\n      <td>teacher</td>\n    </tr>\n    <tr>\n      <th>3</th>\n      <td>Julia</td>\n      <td>40</td>\n      <td>dentist</td>\n    </tr>\n    <tr>\n      <th>4</th>\n      <td>Brian</td>\n      <td>45</td>\n      <td>manager</td>\n    </tr>\n  </tbody>\n</table>\n</div>"
     },
     "metadata": {},
     "execution_count": 5
    }
   ],
   "source": [
    "data_frame.head()"
   ]
  },
  {
   "cell_type": "code",
   "execution_count": 6,
   "metadata": {},
   "outputs": [
    {
     "output_type": "execute_result",
     "data": {
      "text/plain": [
       "pandas.core.series.Series"
      ]
     },
     "metadata": {},
     "execution_count": 6
    }
   ],
   "source": [
    "type(data_frame.job)"
   ]
  },
  {
   "cell_type": "code",
   "execution_count": 7,
   "metadata": {},
   "outputs": [
    {
     "output_type": "execute_result",
     "data": {
      "text/plain": [
       "    name  age        job\n",
       "0   John   20    STUDENT\n",
       "1  Jenny   30  DEVELOPER\n",
       "2   Nate   30    TEACHER\n",
       "3  Julia   40    DENTIST\n",
       "4  Brian   45    MANAGER"
      ],
      "text/html": "<div>\n<style scoped>\n    .dataframe tbody tr th:only-of-type {\n        vertical-align: middle;\n    }\n\n    .dataframe tbody tr th {\n        vertical-align: top;\n    }\n\n    .dataframe thead th {\n        text-align: right;\n    }\n</style>\n<table border=\"1\" class=\"dataframe\">\n  <thead>\n    <tr style=\"text-align: right;\">\n      <th></th>\n      <th>name</th>\n      <th>age</th>\n      <th>job</th>\n    </tr>\n  </thead>\n  <tbody>\n    <tr>\n      <th>0</th>\n      <td>John</td>\n      <td>20</td>\n      <td>STUDENT</td>\n    </tr>\n    <tr>\n      <th>1</th>\n      <td>Jenny</td>\n      <td>30</td>\n      <td>DEVELOPER</td>\n    </tr>\n    <tr>\n      <th>2</th>\n      <td>Nate</td>\n      <td>30</td>\n      <td>TEACHER</td>\n    </tr>\n    <tr>\n      <th>3</th>\n      <td>Julia</td>\n      <td>40</td>\n      <td>DENTIST</td>\n    </tr>\n    <tr>\n      <th>4</th>\n      <td>Brian</td>\n      <td>45</td>\n      <td>MANAGER</td>\n    </tr>\n  </tbody>\n</table>\n</div>"
     },
     "metadata": {},
     "execution_count": 7
    }
   ],
   "source": [
    "data_frame.job = data_frame.job.str.upper()\n",
    "data_frame.head()"
   ]
  },
  {
   "cell_type": "code",
   "execution_count": 12,
   "metadata": {},
   "outputs": [
    {
     "output_type": "execute_result",
     "data": {
      "text/plain": [
       "    word  num\n",
       "0    one    1\n",
       "1    two    2\n",
       "2  three    3"
      ],
      "text/html": "<div>\n<style scoped>\n    .dataframe tbody tr th:only-of-type {\n        vertical-align: middle;\n    }\n\n    .dataframe tbody tr th {\n        vertical-align: top;\n    }\n\n    .dataframe thead th {\n        text-align: right;\n    }\n</style>\n<table border=\"1\" class=\"dataframe\">\n  <thead>\n    <tr style=\"text-align: right;\">\n      <th></th>\n      <th>word</th>\n      <th>num</th>\n    </tr>\n  </thead>\n  <tbody>\n    <tr>\n      <th>0</th>\n      <td>one</td>\n      <td>1</td>\n    </tr>\n    <tr>\n      <th>1</th>\n      <td>two</td>\n      <td>2</td>\n    </tr>\n    <tr>\n      <th>2</th>\n      <td>three</td>\n      <td>3</td>\n    </tr>\n  </tbody>\n</table>\n</div>"
     },
     "metadata": {},
     "execution_count": 12
    }
   ],
   "source": [
    "s1 = pd.core.series.Series(['one','two','three'])\n",
    "s2 = pd.core.series.Series([1, 2, 3])\n",
    "pd.DataFrame(data=dict(word=s1, num=s2))"
   ]
  },
  {
   "cell_type": "code",
   "execution_count": 13,
   "metadata": {},
   "outputs": [],
   "source": [
    "df = pd.read_csv('data/friend_list.csv')"
   ]
  },
  {
   "cell_type": "code",
   "execution_count": 14,
   "metadata": {},
   "outputs": [
    {
     "output_type": "execute_result",
     "data": {
      "text/plain": [
       "    name  age        job\n",
       "0   John   20    student\n",
       "1  Jenny   30  developer\n",
       "2   Nate   30    teacher\n",
       "3  Julia   40    dentist\n",
       "4  Brian   45    manager\n",
       "5  Chris   25     intern"
      ],
      "text/html": "<div>\n<style scoped>\n    .dataframe tbody tr th:only-of-type {\n        vertical-align: middle;\n    }\n\n    .dataframe tbody tr th {\n        vertical-align: top;\n    }\n\n    .dataframe thead th {\n        text-align: right;\n    }\n</style>\n<table border=\"1\" class=\"dataframe\">\n  <thead>\n    <tr style=\"text-align: right;\">\n      <th></th>\n      <th>name</th>\n      <th>age</th>\n      <th>job</th>\n    </tr>\n  </thead>\n  <tbody>\n    <tr>\n      <th>0</th>\n      <td>John</td>\n      <td>20</td>\n      <td>student</td>\n    </tr>\n    <tr>\n      <th>1</th>\n      <td>Jenny</td>\n      <td>30</td>\n      <td>developer</td>\n    </tr>\n    <tr>\n      <th>2</th>\n      <td>Nate</td>\n      <td>30</td>\n      <td>teacher</td>\n    </tr>\n    <tr>\n      <th>3</th>\n      <td>Julia</td>\n      <td>40</td>\n      <td>dentist</td>\n    </tr>\n    <tr>\n      <th>4</th>\n      <td>Brian</td>\n      <td>45</td>\n      <td>manager</td>\n    </tr>\n    <tr>\n      <th>5</th>\n      <td>Chris</td>\n      <td>25</td>\n      <td>intern</td>\n    </tr>\n  </tbody>\n</table>\n</div>"
     },
     "metadata": {},
     "execution_count": 14
    }
   ],
   "source": [
    "df"
   ]
  },
  {
   "cell_type": "code",
   "execution_count": 15,
   "metadata": {},
   "outputs": [],
   "source": [
    "df = pd.read_csv('data/friend_list.txt')"
   ]
  },
  {
   "cell_type": "code",
   "execution_count": 16,
   "metadata": {},
   "outputs": [
    {
     "output_type": "execute_result",
     "data": {
      "text/plain": [
       "    name  age        job\n",
       "0   John   20    student\n",
       "1  Jenny   30  developer\n",
       "2   Nate   30    teacher\n",
       "3  Julia   40    dentist\n",
       "4  Brian   45    manager"
      ],
      "text/html": "<div>\n<style scoped>\n    .dataframe tbody tr th:only-of-type {\n        vertical-align: middle;\n    }\n\n    .dataframe tbody tr th {\n        vertical-align: top;\n    }\n\n    .dataframe thead th {\n        text-align: right;\n    }\n</style>\n<table border=\"1\" class=\"dataframe\">\n  <thead>\n    <tr style=\"text-align: right;\">\n      <th></th>\n      <th>name</th>\n      <th>age</th>\n      <th>job</th>\n    </tr>\n  </thead>\n  <tbody>\n    <tr>\n      <th>0</th>\n      <td>John</td>\n      <td>20</td>\n      <td>student</td>\n    </tr>\n    <tr>\n      <th>1</th>\n      <td>Jenny</td>\n      <td>30</td>\n      <td>developer</td>\n    </tr>\n    <tr>\n      <th>2</th>\n      <td>Nate</td>\n      <td>30</td>\n      <td>teacher</td>\n    </tr>\n    <tr>\n      <th>3</th>\n      <td>Julia</td>\n      <td>40</td>\n      <td>dentist</td>\n    </tr>\n    <tr>\n      <th>4</th>\n      <td>Brian</td>\n      <td>45</td>\n      <td>manager</td>\n    </tr>\n  </tbody>\n</table>\n</div>"
     },
     "metadata": {},
     "execution_count": 16
    }
   ],
   "source": [
    "df.head()"
   ]
  },
  {
   "cell_type": "code",
   "execution_count": 17,
   "metadata": {},
   "outputs": [],
   "source": [
    "df = pd.read_csv('data/friend_list_tab.txt', delimiter=\"\\t\")"
   ]
  },
  {
   "cell_type": "code",
   "execution_count": 18,
   "metadata": {},
   "outputs": [
    {
     "output_type": "execute_result",
     "data": {
      "text/plain": [
       "    name  age        job\n",
       "0   John   20    student\n",
       "1  Jenny   30  developer\n",
       "2   Nate   30    teacher\n",
       "3  Julia   40    dentist\n",
       "4  Brian   45    manager"
      ],
      "text/html": "<div>\n<style scoped>\n    .dataframe tbody tr th:only-of-type {\n        vertical-align: middle;\n    }\n\n    .dataframe tbody tr th {\n        vertical-align: top;\n    }\n\n    .dataframe thead th {\n        text-align: right;\n    }\n</style>\n<table border=\"1\" class=\"dataframe\">\n  <thead>\n    <tr style=\"text-align: right;\">\n      <th></th>\n      <th>name</th>\n      <th>age</th>\n      <th>job</th>\n    </tr>\n  </thead>\n  <tbody>\n    <tr>\n      <th>0</th>\n      <td>John</td>\n      <td>20</td>\n      <td>student</td>\n    </tr>\n    <tr>\n      <th>1</th>\n      <td>Jenny</td>\n      <td>30</td>\n      <td>developer</td>\n    </tr>\n    <tr>\n      <th>2</th>\n      <td>Nate</td>\n      <td>30</td>\n      <td>teacher</td>\n    </tr>\n    <tr>\n      <th>3</th>\n      <td>Julia</td>\n      <td>40</td>\n      <td>dentist</td>\n    </tr>\n    <tr>\n      <th>4</th>\n      <td>Brian</td>\n      <td>45</td>\n      <td>manager</td>\n    </tr>\n  </tbody>\n</table>\n</div>"
     },
     "metadata": {},
     "execution_count": 18
    }
   ],
   "source": [
    "df.head()"
   ]
  },
  {
   "cell_type": "code",
   "execution_count": 19,
   "metadata": {},
   "outputs": [],
   "source": [
    "df = pd.read_csv('data/friend_list_no_head.csv', header=None)"
   ]
  },
  {
   "cell_type": "code",
   "execution_count": 20,
   "metadata": {},
   "outputs": [
    {
     "output_type": "execute_result",
     "data": {
      "text/plain": [
       "       0   1          2\n",
       "0   John  20    student\n",
       "1  Jenny  30  developer\n",
       "2   Nate  30    teacher\n",
       "3  Julia  40    dentist\n",
       "4  Brian  45    manager"
      ],
      "text/html": "<div>\n<style scoped>\n    .dataframe tbody tr th:only-of-type {\n        vertical-align: middle;\n    }\n\n    .dataframe tbody tr th {\n        vertical-align: top;\n    }\n\n    .dataframe thead th {\n        text-align: right;\n    }\n</style>\n<table border=\"1\" class=\"dataframe\">\n  <thead>\n    <tr style=\"text-align: right;\">\n      <th></th>\n      <th>0</th>\n      <th>1</th>\n      <th>2</th>\n    </tr>\n  </thead>\n  <tbody>\n    <tr>\n      <th>0</th>\n      <td>John</td>\n      <td>20</td>\n      <td>student</td>\n    </tr>\n    <tr>\n      <th>1</th>\n      <td>Jenny</td>\n      <td>30</td>\n      <td>developer</td>\n    </tr>\n    <tr>\n      <th>2</th>\n      <td>Nate</td>\n      <td>30</td>\n      <td>teacher</td>\n    </tr>\n    <tr>\n      <th>3</th>\n      <td>Julia</td>\n      <td>40</td>\n      <td>dentist</td>\n    </tr>\n    <tr>\n      <th>4</th>\n      <td>Brian</td>\n      <td>45</td>\n      <td>manager</td>\n    </tr>\n  </tbody>\n</table>\n</div>"
     },
     "metadata": {},
     "execution_count": 20
    }
   ],
   "source": [
    "df.head()"
   ]
  },
  {
   "cell_type": "code",
   "execution_count": 21,
   "metadata": {},
   "outputs": [],
   "source": [
    "df.columns = ['name', 'age', 'job']"
   ]
  },
  {
   "cell_type": "code",
   "execution_count": 22,
   "metadata": {},
   "outputs": [
    {
     "output_type": "execute_result",
     "data": {
      "text/plain": [
       "    name  age        job\n",
       "0   John   20    student\n",
       "1  Jenny   30  developer\n",
       "2   Nate   30    teacher\n",
       "3  Julia   40    dentist\n",
       "4  Brian   45    manager"
      ],
      "text/html": "<div>\n<style scoped>\n    .dataframe tbody tr th:only-of-type {\n        vertical-align: middle;\n    }\n\n    .dataframe tbody tr th {\n        vertical-align: top;\n    }\n\n    .dataframe thead th {\n        text-align: right;\n    }\n</style>\n<table border=\"1\" class=\"dataframe\">\n  <thead>\n    <tr style=\"text-align: right;\">\n      <th></th>\n      <th>name</th>\n      <th>age</th>\n      <th>job</th>\n    </tr>\n  </thead>\n  <tbody>\n    <tr>\n      <th>0</th>\n      <td>John</td>\n      <td>20</td>\n      <td>student</td>\n    </tr>\n    <tr>\n      <th>1</th>\n      <td>Jenny</td>\n      <td>30</td>\n      <td>developer</td>\n    </tr>\n    <tr>\n      <th>2</th>\n      <td>Nate</td>\n      <td>30</td>\n      <td>teacher</td>\n    </tr>\n    <tr>\n      <th>3</th>\n      <td>Julia</td>\n      <td>40</td>\n      <td>dentist</td>\n    </tr>\n    <tr>\n      <th>4</th>\n      <td>Brian</td>\n      <td>45</td>\n      <td>manager</td>\n    </tr>\n  </tbody>\n</table>\n</div>"
     },
     "metadata": {},
     "execution_count": 22
    }
   ],
   "source": [
    "df.head()"
   ]
  },
  {
   "cell_type": "code",
   "execution_count": 23,
   "metadata": {},
   "outputs": [],
   "source": [
    "df = pd.read_csv('data/friend_list_no_head.csv',header=None,names=['name','age','job'])"
   ]
  },
  {
   "cell_type": "code",
   "execution_count": 24,
   "metadata": {},
   "outputs": [
    {
     "output_type": "execute_result",
     "data": {
      "text/plain": [
       "    name  age        job\n",
       "0   John   20    student\n",
       "1  Jenny   30  developer\n",
       "2   Nate   30    teacher\n",
       "3  Julia   40    dentist\n",
       "4  Brian   45    manager"
      ],
      "text/html": "<div>\n<style scoped>\n    .dataframe tbody tr th:only-of-type {\n        vertical-align: middle;\n    }\n\n    .dataframe tbody tr th {\n        vertical-align: top;\n    }\n\n    .dataframe thead th {\n        text-align: right;\n    }\n</style>\n<table border=\"1\" class=\"dataframe\">\n  <thead>\n    <tr style=\"text-align: right;\">\n      <th></th>\n      <th>name</th>\n      <th>age</th>\n      <th>job</th>\n    </tr>\n  </thead>\n  <tbody>\n    <tr>\n      <th>0</th>\n      <td>John</td>\n      <td>20</td>\n      <td>student</td>\n    </tr>\n    <tr>\n      <th>1</th>\n      <td>Jenny</td>\n      <td>30</td>\n      <td>developer</td>\n    </tr>\n    <tr>\n      <th>2</th>\n      <td>Nate</td>\n      <td>30</td>\n      <td>teacher</td>\n    </tr>\n    <tr>\n      <th>3</th>\n      <td>Julia</td>\n      <td>40</td>\n      <td>dentist</td>\n    </tr>\n    <tr>\n      <th>4</th>\n      <td>Brian</td>\n      <td>45</td>\n      <td>manager</td>\n    </tr>\n  </tbody>\n</table>\n</div>"
     },
     "metadata": {},
     "execution_count": 24
    }
   ],
   "source": [
    "df.head()"
   ]
  },
  {
   "cell_type": "code",
   "execution_count": 25,
   "metadata": {},
   "outputs": [],
   "source": [
    "friend_dict_list = [\n",
    "    {'name':'jone', 'age':20, 'job':'student'},\n",
    "    {'name':'Jenny', 'age':25, 'job':'developer'},\n",
    "    {'name':'Nate', 'age':30, 'job':'teacher'}\n",
    "]\n",
    "df = pd.DataFrame(friend_dict_list)"
   ]
  },
  {
   "cell_type": "code",
   "execution_count": 26,
   "metadata": {},
   "outputs": [
    {
     "output_type": "execute_result",
     "data": {
      "text/plain": [
       "    name  age        job\n",
       "0   jone   20    student\n",
       "1  Jenny   25  developer\n",
       "2   Nate   30    teacher"
      ],
      "text/html": "<div>\n<style scoped>\n    .dataframe tbody tr th:only-of-type {\n        vertical-align: middle;\n    }\n\n    .dataframe tbody tr th {\n        vertical-align: top;\n    }\n\n    .dataframe thead th {\n        text-align: right;\n    }\n</style>\n<table border=\"1\" class=\"dataframe\">\n  <thead>\n    <tr style=\"text-align: right;\">\n      <th></th>\n      <th>name</th>\n      <th>age</th>\n      <th>job</th>\n    </tr>\n  </thead>\n  <tbody>\n    <tr>\n      <th>0</th>\n      <td>jone</td>\n      <td>20</td>\n      <td>student</td>\n    </tr>\n    <tr>\n      <th>1</th>\n      <td>Jenny</td>\n      <td>25</td>\n      <td>developer</td>\n    </tr>\n    <tr>\n      <th>2</th>\n      <td>Nate</td>\n      <td>30</td>\n      <td>teacher</td>\n    </tr>\n  </tbody>\n</table>\n</div>"
     },
     "metadata": {},
     "execution_count": 26
    }
   ],
   "source": [
    "df"
   ]
  },
  {
   "cell_type": "code",
   "execution_count": 28,
   "metadata": {},
   "outputs": [],
   "source": [
    "df = df[['name','job','age']]"
   ]
  },
  {
   "cell_type": "code",
   "execution_count": 36,
   "metadata": {},
   "outputs": [
    {
     "output_type": "execute_result",
     "data": {
      "text/plain": [
       "    name        job  age\n",
       "0   jone    student   20\n",
       "1  Jenny  developer   25\n",
       "2   Nate    teacher   30"
      ],
      "text/html": "<div>\n<style scoped>\n    .dataframe tbody tr th:only-of-type {\n        vertical-align: middle;\n    }\n\n    .dataframe tbody tr th {\n        vertical-align: top;\n    }\n\n    .dataframe thead th {\n        text-align: right;\n    }\n</style>\n<table border=\"1\" class=\"dataframe\">\n  <thead>\n    <tr style=\"text-align: right;\">\n      <th></th>\n      <th>name</th>\n      <th>job</th>\n      <th>age</th>\n    </tr>\n  </thead>\n  <tbody>\n    <tr>\n      <th>0</th>\n      <td>jone</td>\n      <td>student</td>\n      <td>20</td>\n    </tr>\n    <tr>\n      <th>1</th>\n      <td>Jenny</td>\n      <td>developer</td>\n      <td>25</td>\n    </tr>\n    <tr>\n      <th>2</th>\n      <td>Nate</td>\n      <td>teacher</td>\n      <td>30</td>\n    </tr>\n  </tbody>\n</table>\n</div>"
     },
     "metadata": {},
     "execution_count": 36
    }
   ],
   "source": [
    "df.head()"
   ]
  },
  {
   "cell_type": "code",
   "execution_count": 37,
   "metadata": {},
   "outputs": [],
   "source": [
    "from collections import OrderedDict"
   ]
  },
  {
   "cell_type": "code",
   "execution_count": 42,
   "metadata": {},
   "outputs": [],
   "source": [
    "friend_ordered_list = OrderedDict(\n",
    "    [\n",
    "        ('name',['John','Jenny','Nate']),\n",
    "        ('age',[20, 30, 40]),\n",
    "        ('job',['student', 'developer','teacher'])\n",
    "    ]\n",
    ")\n",
    "df = pd.DataFrame.from_dict(friend_ordered_list)"
   ]
  },
  {
   "cell_type": "code",
   "execution_count": 43,
   "metadata": {},
   "outputs": [
    {
     "output_type": "execute_result",
     "data": {
      "text/plain": [
       "    name  age        job\n",
       "0   John   20    student\n",
       "1  Jenny   30  developer\n",
       "2   Nate   40    teacher"
      ],
      "text/html": "<div>\n<style scoped>\n    .dataframe tbody tr th:only-of-type {\n        vertical-align: middle;\n    }\n\n    .dataframe tbody tr th {\n        vertical-align: top;\n    }\n\n    .dataframe thead th {\n        text-align: right;\n    }\n</style>\n<table border=\"1\" class=\"dataframe\">\n  <thead>\n    <tr style=\"text-align: right;\">\n      <th></th>\n      <th>name</th>\n      <th>age</th>\n      <th>job</th>\n    </tr>\n  </thead>\n  <tbody>\n    <tr>\n      <th>0</th>\n      <td>John</td>\n      <td>20</td>\n      <td>student</td>\n    </tr>\n    <tr>\n      <th>1</th>\n      <td>Jenny</td>\n      <td>30</td>\n      <td>developer</td>\n    </tr>\n    <tr>\n      <th>2</th>\n      <td>Nate</td>\n      <td>40</td>\n      <td>teacher</td>\n    </tr>\n  </tbody>\n</table>\n</div>"
     },
     "metadata": {},
     "execution_count": 43
    }
   ],
   "source": [
    "df.head()"
   ]
  },
  {
   "cell_type": "code",
   "execution_count": null,
   "metadata": {},
   "outputs": [],
   "source": []
  }
 ]
}