{
 "metadata": {
  "language_info": {
   "codemirror_mode": {
    "name": "ipython",
    "version": 3
   },
   "file_extension": ".py",
   "mimetype": "text/x-python",
   "name": "python",
   "nbconvert_exporter": "python",
   "pygments_lexer": "ipython3",
   "version": "3.8.5-final"
  },
  "orig_nbformat": 2,
  "kernelspec": {
   "name": "python3",
   "display_name": "Python 3.8.5 64-bit (conda)",
   "metadata": {
    "interpreter": {
     "hash": "b3ba2566441a7c06988d0923437866b63cedc61552a5af99d1f4fb67d367b25f"
    }
   }
  }
 },
 "nbformat": 4,
 "nbformat_minor": 2,
 "cells": [
  {
   "cell_type": "code",
   "execution_count": 46,
   "metadata": {},
   "outputs": [],
   "source": [
    "import pandas as pd\n",
    "from collections import OrderedDict"
   ]
  },
  {
   "cell_type": "code",
   "execution_count": 47,
   "metadata": {},
   "outputs": [
    {
     "output_type": "execute_result",
     "data": {
      "text/plain": [
       "list"
      ]
     },
     "metadata": {},
     "execution_count": 47
    }
   ],
   "source": [
    "friend_list1 = [\n",
    "    ['name', ['A','B','C']],\n",
    "    ['age', [20, 30, 40]],\n",
    "    ['job', ['student','teacher','developer']]\n",
    "]\n",
    "\n",
    "friend_list2 = [\n",
    "    ['A', 20, 'student'],\n",
    "    ['B', 30, 'developer'],\n",
    "    ['C', 40, 'teacher']\n",
    "]\n",
    "\n",
    "friend_dict_list = [\n",
    "    {'name' : 'A', 'age' : 20, 'job' : 'student'},\n",
    "    {'name' : 'B', 'age' : 30, 'job' : 'developer'},\n",
    "    {'name' : 'C', 'age' : 40, 'job' : 'teacher'}\n",
    "]\n",
    "\n",
    "friend_ordered_list = OrderedDict(\n",
    "    [\n",
    "        ('name', ['A', 'B', 'C']),\n",
    "        ('age', [20, 30, 40]),\n",
    "        ('job', ['student', 'teacher', 'developer'])\n",
    "    ]\n",
    ")\n",
    "\n",
    "\n",
    "type(friend_dict_list)"
   ]
  },
  {
   "cell_type": "code",
   "execution_count": 13,
   "metadata": {},
   "outputs": [
    {
     "output_type": "execute_result",
     "data": {
      "text/plain": [
       "    name  age        job\n",
       "0   John   20    student\n",
       "1  Jenny   30  developer\n",
       "2   Nate   30    teacher\n",
       "3  Julia   40    dentist\n",
       "4  Brian   45    manager"
      ],
      "text/html": "<div>\n<style scoped>\n    .dataframe tbody tr th:only-of-type {\n        vertical-align: middle;\n    }\n\n    .dataframe tbody tr th {\n        vertical-align: top;\n    }\n\n    .dataframe thead th {\n        text-align: right;\n    }\n</style>\n<table border=\"1\" class=\"dataframe\">\n  <thead>\n    <tr style=\"text-align: right;\">\n      <th></th>\n      <th>name</th>\n      <th>age</th>\n      <th>job</th>\n    </tr>\n  </thead>\n  <tbody>\n    <tr>\n      <th>0</th>\n      <td>John</td>\n      <td>20</td>\n      <td>student</td>\n    </tr>\n    <tr>\n      <th>1</th>\n      <td>Jenny</td>\n      <td>30</td>\n      <td>developer</td>\n    </tr>\n    <tr>\n      <th>2</th>\n      <td>Nate</td>\n      <td>30</td>\n      <td>teacher</td>\n    </tr>\n    <tr>\n      <th>3</th>\n      <td>Julia</td>\n      <td>40</td>\n      <td>dentist</td>\n    </tr>\n    <tr>\n      <th>4</th>\n      <td>Brian</td>\n      <td>45</td>\n      <td>manager</td>\n    </tr>\n  </tbody>\n</table>\n</div>"
     },
     "metadata": {},
     "execution_count": 13
    }
   ],
   "source": [
    "df = pd.read_csv(\"data/friend_list_no_head.csv\", header=None, names=['name','age','job'])\n",
    "df.head()"
   ]
  },
  {
   "cell_type": "code",
   "execution_count": 31,
   "metadata": {},
   "outputs": [
    {
     "output_type": "execute_result",
     "data": {
      "text/plain": [
       "       age  jobs\n",
       "John    15   NaN\n",
       "Jenny   25   NaN\n",
       "Nate    30   NaN"
      ],
      "text/html": "<div>\n<style scoped>\n    .dataframe tbody tr th:only-of-type {\n        vertical-align: middle;\n    }\n\n    .dataframe tbody tr th {\n        vertical-align: top;\n    }\n\n    .dataframe thead th {\n        text-align: right;\n    }\n</style>\n<table border=\"1\" class=\"dataframe\">\n  <thead>\n    <tr style=\"text-align: right;\">\n      <th></th>\n      <th>age</th>\n      <th>jobs</th>\n    </tr>\n  </thead>\n  <tbody>\n    <tr>\n      <th>John</th>\n      <td>15</td>\n      <td>NaN</td>\n    </tr>\n    <tr>\n      <th>Jenny</th>\n      <td>25</td>\n      <td>NaN</td>\n    </tr>\n    <tr>\n      <th>Nate</th>\n      <td>30</td>\n      <td>NaN</td>\n    </tr>\n  </tbody>\n</table>\n</div>"
     },
     "metadata": {},
     "execution_count": 31
    }
   ],
   "source": [
    "friends = [\n",
    "    {'age':15, 'job':'student'},\n",
    "    {'age':25, 'job':'developer'},\n",
    "    {'age':30, 'job':'teacher'}\n",
    "]\n",
    "\n",
    "df = pd.DataFrame(data=friends,index=['John', 'Jenny', 'Nate'], columns=['age', 'jobs'])\n",
    "df.head()"
   ]
  },
  {
   "cell_type": "code",
   "execution_count": 35,
   "metadata": {},
   "outputs": [
    {
     "output_type": "execute_result",
     "data": {
      "text/plain": [
       "       age  jobs\n",
       "Jenny   25   NaN"
      ],
      "text/html": "<div>\n<style scoped>\n    .dataframe tbody tr th:only-of-type {\n        vertical-align: middle;\n    }\n\n    .dataframe tbody tr th {\n        vertical-align: top;\n    }\n\n    .dataframe thead th {\n        text-align: right;\n    }\n</style>\n<table border=\"1\" class=\"dataframe\">\n  <thead>\n    <tr style=\"text-align: right;\">\n      <th></th>\n      <th>age</th>\n      <th>jobs</th>\n    </tr>\n  </thead>\n  <tbody>\n    <tr>\n      <th>Jenny</th>\n      <td>25</td>\n      <td>NaN</td>\n    </tr>\n  </tbody>\n</table>\n</div>"
     },
     "metadata": {},
     "execution_count": 35
    }
   ],
   "source": [
    "df.drop(['John', \"Nate\"]) # 없애고 싶은 정보 입력"
   ]
  },
  {
   "cell_type": "code",
   "execution_count": 41,
   "metadata": {},
   "outputs": [
    {
     "output_type": "execute_result",
     "data": {
      "text/plain": [
       "  name  age        job\n",
       "0    A   20    student\n",
       "1    B   30  developer\n",
       "2    C   40    teacher"
      ],
      "text/html": "<div>\n<style scoped>\n    .dataframe tbody tr th:only-of-type {\n        vertical-align: middle;\n    }\n\n    .dataframe tbody tr th {\n        vertical-align: top;\n    }\n\n    .dataframe thead th {\n        text-align: right;\n    }\n</style>\n<table border=\"1\" class=\"dataframe\">\n  <thead>\n    <tr style=\"text-align: right;\">\n      <th></th>\n      <th>name</th>\n      <th>age</th>\n      <th>job</th>\n    </tr>\n  </thead>\n  <tbody>\n    <tr>\n      <th>0</th>\n      <td>A</td>\n      <td>20</td>\n      <td>student</td>\n    </tr>\n    <tr>\n      <th>1</th>\n      <td>B</td>\n      <td>30</td>\n      <td>developer</td>\n    </tr>\n    <tr>\n      <th>2</th>\n      <td>C</td>\n      <td>40</td>\n      <td>teacher</td>\n    </tr>\n  </tbody>\n</table>\n</div>"
     },
     "metadata": {},
     "execution_count": 41
    }
   ],
   "source": [
    "df = pd.DataFrame(friend_dict_list, columns=['name','age','job'])\n",
    "df"
   ]
  },
  {
   "cell_type": "code",
   "execution_count": 42,
   "metadata": {},
   "outputs": [
    {
     "output_type": "execute_result",
     "data": {
      "text/plain": [
       "  name  age        job\n",
       "1    B   30  developer\n",
       "2    C   40    teacher"
      ],
      "text/html": "<div>\n<style scoped>\n    .dataframe tbody tr th:only-of-type {\n        vertical-align: middle;\n    }\n\n    .dataframe tbody tr th {\n        vertical-align: top;\n    }\n\n    .dataframe thead th {\n        text-align: right;\n    }\n</style>\n<table border=\"1\" class=\"dataframe\">\n  <thead>\n    <tr style=\"text-align: right;\">\n      <th></th>\n      <th>name</th>\n      <th>age</th>\n      <th>job</th>\n    </tr>\n  </thead>\n  <tbody>\n    <tr>\n      <th>1</th>\n      <td>B</td>\n      <td>30</td>\n      <td>developer</td>\n    </tr>\n    <tr>\n      <th>2</th>\n      <td>C</td>\n      <td>40</td>\n      <td>teacher</td>\n    </tr>\n  </tbody>\n</table>\n</div>"
     },
     "metadata": {},
     "execution_count": 42
    }
   ],
   "source": [
    "df[df.age>20]"
   ]
  },
  {
   "cell_type": "code",
   "execution_count": 45,
   "metadata": {},
   "outputs": [
    {
     "output_type": "execute_result",
     "data": {
      "text/plain": [
       "  name        job\n",
       "0    A    student\n",
       "1    B  developer\n",
       "2    C    teacher"
      ],
      "text/html": "<div>\n<style scoped>\n    .dataframe tbody tr th:only-of-type {\n        vertical-align: middle;\n    }\n\n    .dataframe tbody tr th {\n        vertical-align: top;\n    }\n\n    .dataframe thead th {\n        text-align: right;\n    }\n</style>\n<table border=\"1\" class=\"dataframe\">\n  <thead>\n    <tr style=\"text-align: right;\">\n      <th></th>\n      <th>name</th>\n      <th>job</th>\n    </tr>\n  </thead>\n  <tbody>\n    <tr>\n      <th>0</th>\n      <td>A</td>\n      <td>student</td>\n    </tr>\n    <tr>\n      <th>1</th>\n      <td>B</td>\n      <td>developer</td>\n    </tr>\n    <tr>\n      <th>2</th>\n      <td>C</td>\n      <td>teacher</td>\n    </tr>\n  </tbody>\n</table>\n</div>"
     },
     "metadata": {},
     "execution_count": 45
    }
   ],
   "source": [
    "df.drop('age', axis=1)"
   ]
  },
  {
   "cell_type": "code",
   "execution_count": null,
   "metadata": {},
   "outputs": [],
   "source": []
  }
 ]
}