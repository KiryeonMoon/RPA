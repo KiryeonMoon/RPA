{
 "metadata": {
  "language_info": {
   "codemirror_mode": {
    "name": "ipython",
    "version": 3
   },
   "file_extension": ".py",
   "mimetype": "text/x-python",
   "name": "python",
   "nbconvert_exporter": "python",
   "pygments_lexer": "ipython3",
   "version": "3.7.9-final"
  },
  "orig_nbformat": 2,
  "kernelspec": {
   "name": "python3",
   "display_name": "Python 3.7.9 64-bit",
   "metadata": {
    "interpreter": {
     "hash": "52625962eeb4176d8b58bebd18e23bb465cb0604c29a795f61a4a9e53beb8670"
    }
   }
  }
 },
 "nbformat": 4,
 "nbformat_minor": 2,
 "cells": [
  {
   "cell_type": "code",
   "execution_count": null,
   "metadata": {},
   "outputs": [],
   "source": [
    "'''\n",
    "Created By Kiryeon\n",
    "\n",
    "Gwangyang Maintenance Technology Department\n",
    "Mechanical Technology Section\n",
    "'''\n",
    "\n",
    "# # 패키지 설치여부 확인 및 설치 함수\n",
    "# import subprocess\n",
    "# import sys\n",
    "\n",
    "# print(\"Check if package is installed\")\n",
    "# def install_pkg(package):\n",
    "#     try:\n",
    "#         __import__(package)\n",
    "#         print(\" \", package, \": already installed\")\n",
    "#     except ImportError:\n",
    "#         subprocess.call([sys.executable, \"-m\", \"pip\", \"install\", \"--trusted-host=files.pythonhosted.org\", \"--trusted-host=pypi.org\", package])\n",
    "#         print(\"\", package, \" successly installed\")\n",
    "\n",
    "# # 패키지 설치\n",
    "# print(\"Install Packages\")\n",
    "# install_pkg(\"time\")\n",
    "# install_pkg(\"selenium\")\n"
   ]
  },
  {
   "cell_type": "code",
   "execution_count": null,
   "metadata": {},
   "outputs": [],
   "source": [
    "# # chrome webdriver 설치여부 확인\n",
    "# print(\"Check if webdriver is installed\")\n",
    "# import os\n",
    "\n",
    "# check = os.path.isfile(\"C/Users/POSCOUSER/chromedriver.exe\")\n",
    "# if not check:\n",
    "#     import requests\n",
    "#     import zipfile\n",
    "#     url = \"https://chromedriver.storage.googleapis.com/index.html?path=88.0.4324.96/chromedriver_win32.zip\"\n",
    "#     r = requests.get(url, allow_redirects=True, verify=False)\n",
    "#     open(\"C/Users/POSCOUSER/chromedriver_win32.zip\", \"wb\").write(r.content)\n",
    "#     zipfile.ZipFile(\"C/Users/POSCOUSER/chromedriver_win32.zip\").extractall(\"C:\\\\Users\\POSCOUSER\\\\\")\n",
    "#     print(\" \", \"chromedriver installed\")\n",
    "# else:\n",
    "#     print(\" \", \"already installed\")\n"
   ]
  },
  {
   "cell_type": "code",
   "execution_count": null,
   "metadata": {},
   "outputs": [],
   "source": [
    "# 날씨 앱 자동 추출\n",
    "from selenium.webdriver.support import expected_conditions as EC\n",
    "from selenium.webdriver.support.ui import WebDriverWait\n",
    "import time\n",
    "from selenium import webdriver\n",
    "from selenium.webdriver.common.by import By\n",
    "from selenium.webdriver.common.keys import Keys\n",
    "\n",
    "# 웹브라우저 창 안 뜨게\n",
    "invisible = webdriver.ChromeOptions()\n",
    "invisible.add_argument(\"headless\")\n",
    "\n",
    "# 크롬 웹드라이버 호출\n",
    "driver = webdriver.Chrome(\"chromedriver.exe\", options=invisible)\n",
    "driver.get(\"https://www.weather.go.kr/weather/forecast/timeseries.jsp\")\n",
    "\n",
    "#### 지역 설정 ####\n",
    "driver.find_element(\n",
    "    By.XPATH, '//*[@id=\"content_weather\"]/div[2]/dl/dd/a[1]/img').click()  # 동네찾기\n",
    "time.sleep(0.5)\n",
    "driver.find_element(\n",
    "    By.XPATH, '//*[@id=\"localTbody\"]/ul/li[13]/a').click()  # 전라남도\n",
    "time.sleep(0.5)\n",
    "driver.find_element(\n",
    "    By.XPATH, '//*[@id=\"localTbody\"]/ul/li[5]/a').click()  # 광양시\n",
    "time.sleep(0.5)\n",
    "driver.find_element(By.LINK_TEXT, '금호동').click()  # 금호동\n",
    "time.sleep(0.5)\n",
    "driver.find_element(\n",
    "    By.XPATH, '//*[@id=\"layor_area\"]/form/fieldset/p/a[1]/img').click()  # 관심지역 등록\n",
    "\n",
    "# alert창 처리\n",
    "try:\n",
    "    result = driver.switch_to_alert()\n",
    "    result.accept()\n",
    "    print(result)\n",
    "except:\n",
    "    pass\n",
    "\n",
    "time.sleep(3)\n",
    "driver.find_element(By.XPATH, '//*[@id=\"layor_area\"]/p/a/img').click()  # 설정 완료된 창 닫기\n",
    "\n",
    "time.sleep(3)\n",
    "driver.find_element(By.XPATH, '//*[@id=\"content_weather\"]/div[1]/dl/dd/form/input').click() # 변경하기\n",
    "###################"
   ]
  },
  {
   "cell_type": "code",
   "execution_count": null,
   "metadata": {
    "tags": []
   },
   "outputs": [],
   "source": [
    "print(\"Weather Info Function\")\n",
    "# Weather Info Function\n",
    "def printWeather():\n",
    "    ## Current Weather\n",
    "    if driver.find_element(By.XPATH, '//*[@id=\"dfs-panel\"]/div[2]/div[2]/dl/dd[5]'): # 강수 있을 경우\n",
    "        nowTemp = driver.find_element(By.XPATH, '//*[@id=\"dfs-panel\"]/div[2]/div[2]/dl/dd[2]').text # 현재 온도 및 기온\n",
    "        nowWind = driver.find_element(By.XPATH, '//*[@id=\"dfs-panel\"]/div[2]/div[2]/dl/dd[3]').text # 현재 풍속\n",
    "        nowRain = driver.find_element(By.XPATH, '//*[@id=\"dfs-panel\"]/div[2]/div[2]/dl/dd[5]').text # 현재 강수량\n",
    "    else: # 강수 없을 경우\n",
    "        nowTemp = driver.find_element(By.XPATH, '//*[@id=\"dfs-panel\"]/div[2]/div[2]/dl/dd[1]').text # 현재 온도, 기온\n",
    "        nowWind = driver.find_element(By.XPATH, '//*[@id=\"dfs-panel\"]/div[2]/div[2]/dl/dd[2]').text # 현재 풍속\n",
    "        nowRain = \"비/눈 없음\"\n",
    "\n",
    "    ## Current Time\n",
    "    hour = time.localtime().tm_hour\n",
    "    minute = time.localtime().tm_min\n",
    "\n",
    "    ## Make text\n",
    "    report = open(\"Report.txt\", \"w\")\n",
    "    report.write(\"####### 최근 업데이트 : {0}시 {1}분 #########\\n\\n\".format(hour, minute))\n",
    "    report.write(\"현재기온 : {0}\\n현재풍속 : {1}\\n강수상태 : {2}\\n\\n\\n############ 내일 날씨 예상 ############\\n\\n\".format(nowTemp, nowWind, nowRain))\n",
    "\n",
    "    # Expect tomorrow weather\n",
    "    for i in range(1,8):\n",
    "        tmrWeather = driver.find_element(By.XPATH, '//*[@id=\"dfs-panel\"]/div[4]/table/tbody/tr[3]/td[{0}]'.format(i))\n",
    "        tmrWeather_att = tmrWeather.get_attribute(\"title\")\n",
    "        if tmrWeather_att == \"흐림\" or tmrWeather_att == \"비/눈\" or tmrWeather_att == \"눈\":\n",
    "            string = \"내일 날씨 최소 흐리거나 더 안 좋음. 드론 날기 힘듦\\n\\n\"\n",
    "            break\n",
    "        else:\n",
    "            string = \"내일 날씨 평이 혹은 준수할 것으로 기대됨. 추이를 지켜봐야 할 듯\\n\\n\"\n",
    "    report.write(string)\n",
    "\n",
    "    report.write(\"###################################\")\n",
    "    report.close()\n",
    "\n"
   ]
  },
  {
   "cell_type": "code",
   "execution_count": null,
   "metadata": {},
   "outputs": [],
   "source": [
    "# Run Program\n",
    "print(\"Run Program\")\n",
    "while True:\n",
    "    printWeather()\n",
    "    print(\"반복수행중\")\n",
    "    time.sleep(10)"
   ]
  }
 ]
}