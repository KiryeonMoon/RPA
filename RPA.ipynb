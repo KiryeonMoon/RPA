{
 "metadata": {
  "language_info": {
   "codemirror_mode": {
    "name": "ipython",
    "version": 3
   },
   "file_extension": ".py",
   "mimetype": "text/x-python",
   "name": "python",
   "nbconvert_exporter": "python",
   "pygments_lexer": "ipython3",
   "version": "3.7.9-final"
  },
  "orig_nbformat": 2,
  "kernelspec": {
   "name": "python3",
   "display_name": "Python 3.7.9 64-bit",
   "metadata": {
    "interpreter": {
     "hash": "52625962eeb4176d8b58bebd18e23bb465cb0604c29a795f61a4a9e53beb8670"
    }
   }
  }
 },
 "nbformat": 4,
 "nbformat_minor": 2,
 "cells": [
  {
   "cell_type": "code",
   "execution_count": 45,
   "metadata": {},
   "outputs": [
    {
     "output_type": "execute_result",
     "data": {
      "text/plain": [
       "'\\n@Created By Kiryeon\\n\\nGwangyang Maintenance Technology Department\\nMechanical Technology Section\\n\\nLast Edit : 2021.2.20\\n'"
      ]
     },
     "metadata": {},
     "execution_count": 45
    }
   ],
   "source": [
    "'''\n",
    "@Created By Kiryeon\n",
    "\n",
    "Gwangyang Maintenance Technology Department\n",
    "Mechanical Technology Section\n",
    "\n",
    "Last Edit : 2021.2.20\n",
    "'''\n",
    "\n",
    "# # 패키지 설치여부 확인 및 설치 함수\n",
    "# import subprocess\n",
    "# import sys\n",
    "\n",
    "# print(\"Check if package is installed\")\n",
    "# def install_pkg(package):\n",
    "#     try:\n",
    "#         __import__(package)\n",
    "#         print(\" \", package, \": already installed\")\n",
    "#     except ImportError:\n",
    "#         subprocess.call([sys.executable, \"-m\", \"pip\", \"install\", \"--trusted-host=files.pythonhosted.org\", \"--trusted-host=pypi.org\", package])\n",
    "#         print(\"\", package, \" successly installed\")\n",
    "\n",
    "# # 패키지 설치\n",
    "# print(\"Install Packages\")\n",
    "# install_pkg(\"time\")\n",
    "# install_pkg(\"selenium\")\n"
   ]
  },
  {
   "cell_type": "code",
   "execution_count": 46,
   "metadata": {},
   "outputs": [],
   "source": [
    "# # chrome webdriver 설치여부 확인\n",
    "# print(\"Check if webdriver is installed\")\n",
    "# import os\n",
    "\n",
    "# check = os.path.isfile(\"C/Users/POSCOUSER/chromedriver.exe\")\n",
    "# if not check:\n",
    "#     import requests\n",
    "#     import zipfile\n",
    "#     url = \"https://chromedriver.storage.googleapis.com/index.html?path=88.0.4324.96/chromedriver_win32.zip\"\n",
    "#     r = requests.get(url, allow_redirects=True, verify=False)\n",
    "#     open(\"C/Users/POSCOUSER/chromedriver_win32.zip\", \"wb\").write(r.content)\n",
    "#     zipfile.ZipFile(\"C/Users/POSCOUSER/chromedriver_win32.zip\").extractall(\"C:\\\\Users\\POSCOUSER\\\\\")\n",
    "#     print(\" \", \"chromedriver installed\")\n",
    "# else:\n",
    "#     print(\" \", \"already installed\")\n"
   ]
  },
  {
   "cell_type": "code",
   "execution_count": 47,
   "metadata": {},
   "outputs": [
    {
     "output_type": "stream",
     "name": "stdout",
     "text": [
      "<selenium.webdriver.common.alert.Alert object at 0x000001B899D27C08>\n"
     ]
    }
   ],
   "source": [
    "# 날씨 앱 자동 추출\n",
    "from selenium.webdriver.support import expected_conditions as EC\n",
    "from selenium.webdriver.support.ui import WebDriverWait\n",
    "import time\n",
    "from selenium import webdriver\n",
    "from selenium.webdriver.common.by import By\n",
    "from selenium.webdriver.common.keys import Keys\n",
    "\n",
    "# 웹브라우저 창 안 뜨게\n",
    "invisible = webdriver.ChromeOptions()\n",
    "invisible.add_argument(\"headless\")\n",
    "\n",
    "# 크롬 웹드라이버 호출\n",
    "import sys, os, time\n",
    "\n",
    "# Run chorme webdriver\n",
    "if  getattr(sys, 'frozen', False): \n",
    "    chromedriver_path = os.path.join(sys._MEIPASS, \"chromedriver.exe\")\n",
    "    driver = webdriver.Chrome(chromedriver_path, options=invisible)\n",
    "else:\n",
    "    driver = webdriver.Chrome(\"chromedriver.exe\", options=invisible)\n",
    "driver.get(\"https://www.weather.go.kr/weather/forecast/timeseries.jsp\")\n",
    "\n",
    "#### 지역 설정 ####\n",
    "driver.find_element(\n",
    "    By.XPATH, '//*[@id=\"content_weather\"]/div[2]/dl/dd/a[1]/img').click()  # 동네찾기\n",
    "time.sleep(0.5)\n",
    "driver.find_element(\n",
    "    By.XPATH, '//*[@id=\"localTbody\"]/ul/li[13]/a').click()  # 전라남도\n",
    "time.sleep(0.5)\n",
    "driver.find_element(\n",
    "    By.XPATH, '//*[@id=\"localTbody\"]/ul/li[5]/a').click()  # 광양시\n",
    "time.sleep(0.5)\n",
    "driver.find_element(By.LINK_TEXT, '금호동').click()  # 금호동\n",
    "time.sleep(0.5)\n",
    "driver.find_element(\n",
    "    By.XPATH, '//*[@id=\"layor_area\"]/form/fieldset/p/a[1]/img').click()  # 관심지역 등록\n",
    "\n",
    "# alert창 처리\n",
    "try:\n",
    "    result = driver.switch_to_alert()\n",
    "    result.accept()\n",
    "    print(result)\n",
    "except:\n",
    "    pass\n",
    "\n",
    "time.sleep(3)\n",
    "driver.find_element(By.XPATH, '//*[@id=\"layor_area\"]/p/a/img').click()  # 설정 완료된 창 닫기\n",
    "\n",
    "time.sleep(3)\n",
    "driver.find_element(By.XPATH, '//*[@id=\"content_weather\"]/div[1]/dl/dd/form/input').click() # 변경하기\n",
    "###################"
   ]
  },
  {
   "cell_type": "code",
   "execution_count": 48,
   "metadata": {
    "tags": []
   },
   "outputs": [
    {
     "output_type": "stream",
     "name": "stdout",
     "text": [
      "Element check\nList check\nCurrent Weather\nToday Waether\nTomorrow Waether\nWeather Info Function\n"
     ]
    }
   ],
   "source": [
    "from selenium.common.exceptions import NoSuchElementException\n",
    "\n",
    "## Element check\n",
    "print(\"Element check\")\n",
    "def isElementPresent(address):\n",
    "    try:\n",
    "        driver.find_element(By.XPATH, address)\n",
    "    except NoSuchElementException:\n",
    "        return False\n",
    "    return True\n",
    "\n",
    "## List check\n",
    "print(\"List check\")\n",
    "def isEmpty(lst):\n",
    "    try:\n",
    "        lst[0]\n",
    "    except IndexError:\n",
    "        return True\n",
    "    return False\n",
    "\n",
    "\n",
    "## Current Weather\n",
    "print(\"Current Weather\")\n",
    "def currentWeather():\n",
    "    if isElementPresent('//*[@id=\"dfs-panel\"]/div[2]/div[2]/dl/dd[5]'): # 강수 있을 경우\n",
    "        nowTemp = driver.find_element(By.XPATH, '//*[@id=\"dfs-panel\"]/div[2]/div[2]/dl/dd[2]').text # 현재 온도 및 기온\n",
    "        nowWind = driver.find_element(By.XPATH, '//*[@id=\"dfs-panel\"]/div[2]/div[2]/dl/dd[3]').text # 현재 풍속\n",
    "        nowRain = driver.find_element(By.XPATH, '//*[@id=\"dfs-panel\"]/div[2]/div[2]/dl/dd[5]').text # 현재 강수량\n",
    "    else: # 강수 없을 경우\n",
    "        nowTemp = driver.find_element(By.XPATH, '//*[@id=\"dfs-panel\"]/div[2]/div[2]/dl/dd[1]').text # 현재 온도, 기온\n",
    "        nowWind = driver.find_element(By.XPATH, '//*[@id=\"dfs-panel\"]/div[2]/div[2]/dl/dd[2]').text # 현재 풍속\n",
    "        nowRain = \"비/눈 없음\"    \n",
    "    return [nowTemp, nowWind, nowRain]\n",
    "\n",
    "\n",
    "## Today weather\n",
    "print(\"Today Waether\")\n",
    "def TodayWeather():\n",
    "    message = []\n",
    "    for i in range(1, 4):\n",
    "        tdTime = driver.find_element(\n",
    "            By.XPATH, '//*[@id=\"dfs-panel\"]/div[2]/div[3]/dl[{0}]/dt'.format(i))\n",
    "        tdWeather = driver.find_element(\n",
    "            By.XPATH, '//*[@id = \"dfs-panel\"]/div[2]/div[3]/dl[{0}]/dd[1]/img'.format(i))\n",
    "        tdTime_txt = tdTime.text\n",
    "        tdWeather_att = tdWeather.get_attribute(\"alt\")\n",
    "        # print(int(tdTime_txt[0:2]))\n",
    "        \n",
    "        # No update after 17:00 pm\n",
    "        if int(tdTime_txt[0:2]) > 17:\n",
    "            break\n",
    "        else:\n",
    "            message.append(\"{0} : {1}\\n\".format(tdTime_txt, tdWeather_att))\n",
    "    \n",
    "    string = \"\"\n",
    "    if isEmpty(message): # After 17:00\n",
    "        string = \"그만 일하고 퇴근하세요 휴먼\\n\\n\"\n",
    "        return string\n",
    "    else: # Before 17:00\n",
    "        for i,j in enumerate(message):\n",
    "            string += \"{0}\\n\".format(message[i])\n",
    "    \n",
    "    return string\n",
    "\n",
    "\n",
    "## Tomorrow weather\n",
    "print(\"Tomorrow Waether\")\n",
    "def tomorrowWeather():\n",
    "    for i in range(1,8):\n",
    "        tmrWeather = driver.find_element(By.XPATH, '//*[@id=\"dfs-panel\"]/div[4]/table/tbody/tr[3]/td[{0}]'.format(i))\n",
    "        tmrWeather_att = tmrWeather.get_attribute(\"title\")\n",
    "        if tmrWeather_att == \"흐림\" or tmrWeather_att == \"비/눈\" or tmrWeather_att == \"눈\":\n",
    "            string = \"내일 날씨 최소 흐리거나 더 안 좋음\\n\\n\"\n",
    "            break\n",
    "        else:\n",
    "            string = \"내일 날씨 평이 혹은 준수할 것으로 예상\\n\\n\"\n",
    "    return string\n",
    "\n",
    "\n",
    "## Weather Info Function\n",
    "print(\"Weather Info Function\")\n",
    "def printWeather():\n",
    "\n",
    "    # Current Time\n",
    "    hour = time.localtime().tm_hour\n",
    "    minute = time.localtime().tm_min\n",
    "\n",
    "    # Make text\n",
    "    report = open(\"C:/Users/Be Irreplaceable/Desktop/Report.txt\", \"w\")\n",
    "    report.write(\"####### 최근 업데이트 : {0}시 {1}분 #########\\n\\n\".format(hour, minute))\n",
    "    report.write(\"현재기온 : {0}\\n현재풍속 : {1}\\n강수상태 : {2}\\n\\n\\n########### 시간별 날씨 예상 ############\\n\\n\".format(currentWeather()[0], currentWeather()[1], currentWeather()[2]))\n",
    "    report.write(TodayWeather())\n",
    "    report.write(\"\\n############ 내일 날씨 예상 ############\\n\\n\")\n",
    "    report.write(tomorrowWeather())\n",
    "    report.write(\"\\n###################################\\n\\n\")\n",
    "    report.close()"
   ]
  },
  {
   "cell_type": "code",
   "execution_count": 49,
   "metadata": {},
   "outputs": [
    {
     "output_type": "stream",
     "name": "stdout",
     "text": [
      "Run Program\n",
      "Terminate Program\n"
     ]
    }
   ],
   "source": [
    "print(\"Run Program\")\n",
    "printWeather()\n",
    "\n",
    "print(\"Terminate Program\")\n",
    "driver.quit()\n",
    "## Run Program\n",
    "# print(\"Run Program\")\n",
    "# while True:\n",
    "#     printWeather()\n",
    "#     print(\"반복수행중\")\n",
    "#     time.sleep(10)"
   ]
  }
 ]
}