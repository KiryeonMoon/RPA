{
 "metadata": {
  "language_info": {
   "codemirror_mode": {
    "name": "ipython",
    "version": 3
   },
   "file_extension": ".py",
   "mimetype": "text/x-python",
   "name": "python",
   "nbconvert_exporter": "python",
   "pygments_lexer": "ipython3",
   "version": "3.7.9-final"
  },
  "orig_nbformat": 2,
  "kernelspec": {
   "name": "python3",
   "display_name": "Python 3.7.9 64-bit",
   "metadata": {
    "interpreter": {
     "hash": "52625962eeb4176d8b58bebd18e23bb465cb0604c29a795f61a4a9e53beb8670"
    }
   }
  }
 },
 "nbformat": 4,
 "nbformat_minor": 2,
 "cells": [
  {
   "cell_type": "code",
   "execution_count": null,
   "metadata": {},
   "outputs": [],
   "source": [
    "    # 날씨 앱 자동 추출\n",
    "    from selenium.webdriver.support import expected_conditions as EC\n",
    "    from selenium.webdriver.support.ui import WebDriverWait\n",
    "    import time\n",
    "    from selenium import webdriver\n",
    "    from selenium.webdriver.common.by import By\n",
    "    from selenium.webdriver.common.keys import Keys\n",
    "\n",
    "    # 크롬 웹드라이버 호출\n",
    "    driver = webdriver.Chrome(\"chromedriver.exe\")\n",
    "    driver.get(\"https://www.weather.go.kr/weather/forecast/timeseries.jsp\")\n",
    "\n",
    "    #### 지역 설정 ####\n",
    "    driver.find_element(\n",
    "        By.XPATH, '//*[@id=\"content_weather\"]/div[2]/dl/dd/a[1]/img').click()  # 동네찾기\n",
    "    time.sleep(0.25)\n",
    "    driver.find_element(\n",
    "        By.XPATH, '//*[@id=\"localTbody\"]/ul/li[13]/a').click()  # 전라남도\n",
    "    time.sleep(0.25)\n",
    "    driver.find_element(\n",
    "        By.XPATH, '//*[@id=\"localTbody\"]/ul/li[5]/a').click()  # 광양시\n",
    "    time.sleep(0.25)\n",
    "    driver.find_element(By.LINK_TEXT, '금호동').click()  # 금호동\n",
    "    time.sleep(0.25)\n",
    "    driver.find_element(\n",
    "        By.XPATH, '//*[@id=\"layor_area\"]/form/fieldset/p/a[1]/img').click()  # 관심지역 등록\n",
    "\n",
    "    # alert창 처리\n",
    "    try:\n",
    "        result = driver.switch_to_alert()\n",
    "        result.accept()\n",
    "        print(result)\n",
    "    except:\n",
    "        pass\n",
    "\n",
    "    time.sleep(3)\n",
    "    driver.find_element(\n",
    "        By.XPATH, '//*[@id=\"layor_area\"]/p/a/img').click()  # 설정 완료된 창 닫기\n",
    "    ###################"
   ]
  },
  {
   "cell_type": "code",
   "execution_count": null,
   "metadata": {},
   "outputs": [],
   "source": [
    "import schedule\n",
    "## 현재 기상정보 ##\n",
    "nowTemp = driver.find_element(By.XPATH, '//*[@id=\"dfs-panel\"]/div[2]/div[2]/dl/dd[1]').text # 현재 온도, 기온\n",
    "nowWind = driver.find_element(By.XPATH, '//*[@id=\"dfs-panel\"]/div[2]/div[2]/dl/dd[2]').text # 현재 풍속\n",
    "# nowWind = driver.find_element(By.XPATH, '//*[@id=\"dfs-panel\"]/div[2]/div[2]/dl/dd[3]').text # 습도 불필요하므로 제외\n",
    "nowRain = driver.find_element(By.XPATH, '//*[@id=\"dfs-panel\"]/div[2]/div[2]/dl/dd[4]').text # 현재 강수량"
   ]
  },
  {
   "cell_type": "code",
   "execution_count": null,
   "metadata": {
    "tags": []
   },
   "outputs": [],
   "source": [
    "# 출력\n",
    "def printWeather():\n",
    "    # print(\"현재기온 : {0}\\n현재풍속 : {1}\\n강수상태 : {2}\".format(nowTemp, nowWind, nowRain))\n",
    "    print(\"A\")\n",
    "\n",
    "# schedule.every(10).seconds.do(printWeather) # 10분마다 실행\n",
    "\n",
    "# while True:\n",
    "#     schedule.run_pending()\n",
    "#     time.sleep(1)\n",
    "\n",
    "# time.sleep(10)\n",
    "# now = time.localtime()\n",
    "# print(now.tm_sec)\n",
    "\n",
    "# while True:\n",
    "#     if now.tm_sec != 0:\n",
    "#         print(now.tm_sec)\n",
    "#         time.sleep(1)\n",
    "#         continue\n",
    "#     print(\"현재기온 : {0}\\n현재풍속 : {1}\\n강수상태 : {2}\".format(nowTemp, nowWind, nowRain))\n",
    "\n",
    "schedule.every(10).seconds.do(printWeather)\n",
    "\n",
    "while True:\n",
    "    schedule.run_pending()\n",
    "    time.sleep(1)"
   ]
  },
  {
   "cell_type": "code",
   "execution_count": null,
   "metadata": {},
   "outputs": [],
   "source": []
  }
 ]
}